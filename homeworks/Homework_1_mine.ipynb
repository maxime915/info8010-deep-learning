{
 "cells": [
  {
   "cell_type": "markdown",
   "metadata": {
    "id": "pL_M_9Woro8t"
   },
   "source": [
    "# INFO8010: Homework 1\n",
    "In this first homework you will familiarize yourself with the basics of differentiable programming with PyTorch. At the end of this assignment you should be able to build and train your own multi-layer perceptron! Although this assignment is optional, we **strongly** advise you to do it. At the end of the course we expect that you will be comfortable with PyTorch, which you will in turn also use for your final project."
   ]
  },
  {
   "cell_type": "markdown",
   "metadata": {
    "id": "4S2uIom9ro8w"
   },
   "source": [
    "## 0. Prerequisite"
   ]
  },
  {
   "cell_type": "markdown",
   "metadata": {
    "id": "ztSA-dG8ro8x"
   },
   "source": [
    "Before diving into the ***wonderful world of Deep Learning*** you need to install some libraries. \n",
    "If you are reading these instructions, it means that you already have the Jupyter-Notebook running, which is a good start since you will have to use it for both assignments. \n",
    "\n",
    "In order to successfully run all the cells, you will need some libraries installed on your machine. Together with this assignment you are also given a `.pdf` and a `.yml` file which will guide you through the installation process. Please read the instructions carefully before starting this homework.\n",
    "\n",
    "If you happen to not be familiar with Jupyter we refer you to this straightforward [tutorial](https://realpython.com/jupyter-notebook-introduction/) which should help you in getting started.\n",
    "\n",
    "You will notice that the assignemnt comes in different flavours: sometimes you will be provided with already running code, which comes with appropriate explanations. Other times you will have to write code yourself, when this is the case the cells of the notebook will be marked in red with the following instruction <span style=\"color:red; font-style: italic\">Your code comes below</span>. Sometimes, next to writing code yourself you will also have to motivate why you programmed certain things or guide us quickly through the results that you obtained. If this is required you will see the following green instruction: <span style=\"color:green; font-style:italic\">Your discussion comes below</span>. \n",
    "\n",
    "Please note that you will **not** have to handle in any sort of written report by the end of the assignment. We do however expect **the notebook** with the solutions to the exercises.\n",
    "\n",
    "Now that you have survived the boring part you are ready to start this first assignment!\n",
    "Our first step is very easy, we just start with importing some appropriate libraries."
   ]
  },
  {
   "cell_type": "code",
   "execution_count": 1,
   "metadata": {
    "id": "ldSZm6Mfro8x"
   },
   "outputs": [],
   "source": [
    "import torch\n",
    "import numpy\n",
    "import matplotlib.pyplot as plt"
   ]
  },
  {
   "cell_type": "markdown",
   "metadata": {
    "id": "UdPwMRYzro8y"
   },
   "source": [
    "## 1. Tensors and basic operations"
   ]
  },
  {
   "cell_type": "markdown",
   "metadata": {
    "id": "3AFsurr1ro8y"
   },
   "source": [
    "Tensors are one of the main ingredients when it comes to modern Deep-Learning frameworks. Almost all deep learning computations can be expressed as tensor operations which make computation fast and efficient. We will now see how to manipulate tensors within the PyTorch library."
   ]
  },
  {
   "cell_type": "markdown",
   "metadata": {
    "id": "rNC8KAphro8y"
   },
   "source": [
    "### 1.1 A guided tour"
   ]
  },
  {
   "cell_type": "markdown",
   "metadata": {
    "id": "FGc-iUMdro8z"
   },
   "source": [
    "**What is a tensor?** There are many valid answers but to keep it simple you can see them as multidimensional arrays. \n",
    "\n",
    "Wikipedia says: *'A tensor may be represented as a (potentially multidimensional) array. Just as a vector in an n-dimensional space is represented by a one-dimensional array with n components with respect to a given basis, any tensor with respect to a basis is represented by a multidimensional array.'*\n",
    "\n",
    "*In PyTorch, a tensor is an object from the class torch.Tensor (or torch.Tensor).*\n",
    "This class handles almost any operations you could like to perform on a tensor, see below."
   ]
  },
  {
   "cell_type": "markdown",
   "metadata": {
    "id": "Br9KohNpro8z"
   },
   "source": [
    "There are many ways to create tensors, here below are two examples (for further information you can check the [library](https://pytorch.org/docs/stable/tensors.html#:~:text=To%20create%20a%20tensor%20with,ops%20(see%20Creation%20Ops) \\)."
   ]
  },
  {
   "cell_type": "code",
   "execution_count": 2,
   "metadata": {
    "id": "c632pGBuro8z"
   },
   "outputs": [],
   "source": [
    "# We can create a tensor from an array:\n",
    "t1 = torch.tensor([[1, 2], [7, 9]])\n",
    "# Or we can also create a 2x2 tensor filled with zeros:\n",
    "t2 = torch.zeros(2, 2)"
   ]
  },
  {
   "cell_type": "markdown",
   "metadata": {
    "id": "sS_RXC7Ero80"
   },
   "source": [
    "If you want to check how a tensor looks like you can easily print it:"
   ]
  },
  {
   "cell_type": "code",
   "execution_count": 3,
   "metadata": {
    "colab": {
     "base_uri": "https://localhost:8080/"
    },
    "id": "u9AUDdfKro80",
    "outputId": "36ef6300-a799-4509-ab18-1b9ca035c2c3"
   },
   "outputs": [
    {
     "name": "stdout",
     "output_type": "stream",
     "text": [
      "tensor([[1, 2],\n",
      "        [7, 9]])\n",
      "tensor([[0., 0.],\n",
      "        [0., 0.]])\n"
     ]
    }
   ],
   "source": [
    "print(t1)\n",
    "print(t2)"
   ]
  },
  {
   "cell_type": "markdown",
   "metadata": {
    "id": "ZWrkTcmTro80"
   },
   "source": [
    "*As an array may contain different types of data (e.g: string, float, int, boolean), so can a tensor (although it is restricted to numerical types only).*\n",
    "\n",
    "Let's check what type of data is in t1 and t2:"
   ]
  },
  {
   "cell_type": "code",
   "execution_count": 4,
   "metadata": {
    "colab": {
     "base_uri": "https://localhost:8080/"
    },
    "id": "u9OH-2_jro80",
    "outputId": "e935eed4-5b73-4643-8936-107932ade724"
   },
   "outputs": [
    {
     "name": "stdout",
     "output_type": "stream",
     "text": [
      "torch.LongTensor torch.FloatTensor\n"
     ]
    }
   ],
   "source": [
    "print(t1.type(), t2.type())"
   ]
  },
  {
   "cell_type": "markdown",
   "metadata": {
    "id": "2pfh-QqQro80"
   },
   "source": [
    "The type `LongTensor` is used to store integer values and `FloatTensor` for real values. You can also convert tensors from one type to another:"
   ]
  },
  {
   "cell_type": "code",
   "execution_count": 5,
   "metadata": {
    "colab": {
     "base_uri": "https://localhost:8080/"
    },
    "id": "tZwhZGjLro81",
    "outputId": "0bb12e1e-07a4-4a3b-bf0a-f82a626fb68d"
   },
   "outputs": [
    {
     "name": "stdout",
     "output_type": "stream",
     "text": [
      "tensor([[1, 2],\n",
      "        [7, 9]]) torch.LongTensor tensor([[1., 2.],\n",
      "        [7., 9.]]) torch.FloatTensor\n",
      "tensor([[0., 0.],\n",
      "        [0., 0.]]) torch.FloatTensor tensor([[0, 0],\n",
      "        [0, 0]]) torch.LongTensor\n"
     ]
    }
   ],
   "source": [
    "t1_real = t1.float()\n",
    "print(t1, t1.type(), t1_real, t1_real.type())\n",
    "t2_int = t2.long()\n",
    "print(t2, t2.type(), t2_int, t2_int.type())"
   ]
  },
  {
   "cell_type": "markdown",
   "metadata": {
    "id": "6NsRy3yCro81"
   },
   "source": [
    "*Another important property of a tensor is its shape, you can use the `.shape` property or `.size()` method to check the dimension of a tensor.* \n",
    "\n",
    "Both return a `torch.Size` object that can be manipulated with its own operations. Most of the time you will just use torch.Size objects as a list (e.g. to check the size of a tensor along one of its dimension)."
   ]
  },
  {
   "cell_type": "code",
   "execution_count": 6,
   "metadata": {
    "colab": {
     "base_uri": "https://localhost:8080/"
    },
    "id": "dkOsQ2r1ro81",
    "outputId": "ebff7886-be24-4d72-98b7-f524ea1bc5c2"
   },
   "outputs": [
    {
     "name": "stdout",
     "output_type": "stream",
     "text": [
      "torch.Size([2, 2]) torch.Size([2, 2])\n",
      "2\n"
     ]
    }
   ],
   "source": [
    "print(t1.shape, t1.size())\n",
    "# if we want to check for the length of the tensor along its first dimension:\n",
    "print(t1.shape[0])"
   ]
  },
  {
   "cell_type": "markdown",
   "metadata": {
    "id": "QQ4mkyi5ro81"
   },
   "source": [
    "**1D (vectors) and 2D (matrices) tensors**\n",
    "\n",
    "Let us now familiarize ourselves with some simple tensor operations. If you are familiar with the numpy library this will look alike, similarly if you know about matlab this should also remind you of what you can do with this language. If none of the above, you might be reconsidering your life choices!"
   ]
  },
  {
   "cell_type": "code",
   "execution_count": 7,
   "metadata": {
    "colab": {
     "base_uri": "https://localhost:8080/"
    },
    "id": "yeqabolmro82",
    "outputId": "4e9f5935-481a-4bf7-9adc-bb701ef49ea2"
   },
   "outputs": [
    {
     "data": {
      "text/plain": [
       "(tensor([-86, -58, -12,  12, -37]), tensor([17, 78, 94, 57, 14]))"
      ]
     },
     "execution_count": 7,
     "metadata": {},
     "output_type": "execute_result"
    }
   ],
   "source": [
    "# Let's create 2 1D tensors of 5 random integers:\n",
    "v1 = torch.randint(low=-100, high=100, size=[5])\n",
    "v2 = torch.randint(low=-100, high=100, size=[5])\n",
    "v1, v2"
   ]
  },
  {
   "cell_type": "markdown",
   "metadata": {
    "id": "hBZMXvZZro82"
   },
   "source": [
    "Let's review some basic operations:"
   ]
  },
  {
   "cell_type": "code",
   "execution_count": 8,
   "metadata": {
    "colab": {
     "base_uri": "https://localhost:8080/"
    },
    "id": "ENZx7HKtro82",
    "outputId": "9aab52a9-763a-46c6-b50d-270f5f98be86"
   },
   "outputs": [
    {
     "name": "stdout",
     "output_type": "stream",
     "text": [
      "tensor([-69,  20,  82,  69, -23])\n"
     ]
    }
   ],
   "source": [
    "# addition\n",
    "v_sum = v1 + v2\n",
    "print(v_sum)"
   ]
  },
  {
   "cell_type": "markdown",
   "metadata": {
    "id": "r4ORom4uro82"
   },
   "source": [
    "Subtraction (-), element-wise multiplication (*) and element-wise division follow the same logic.\n",
    "\n",
    "<span style=\"color:red; font-style:italic\">Your code comes below</span>"
   ]
  },
  {
   "cell_type": "code",
   "execution_count": 9,
   "metadata": {
    "colab": {
     "base_uri": "https://localhost:8080/"
    },
    "id": "ZSfwdB97ro83",
    "outputId": "47d2bd5c-b73b-41b7-f997-d8dbd3775b1b"
   },
   "outputs": [
    {
     "name": "stdout",
     "output_type": "stream",
     "text": [
      "tensor([103, 136, 106,  45,  51])\n",
      "tensor([-1462, -4524, -1128,   684,  -518])\n"
     ]
    },
    {
     "ename": "RuntimeError",
     "evalue": "Integer division of tensors using div or / is no longer supported, and in a future release div will perform true division as in Python 3. Use true_divide or floor_divide (// in Python) instead.",
     "output_type": "error",
     "traceback": [
      "\u001b[0;31m---------------------------------------------------------------------------\u001b[0m",
      "\u001b[0;31mRuntimeError\u001b[0m                              Traceback (most recent call last)",
      "\u001b[0;32m<ipython-input-9-3ac97ee47622>\u001b[0m in \u001b[0;36m<module>\u001b[0;34m\u001b[0m\n\u001b[1;32m      8\u001b[0m \u001b[0;34m\u001b[0m\u001b[0m\n\u001b[1;32m      9\u001b[0m \u001b[0;31m# Divide the elements of v1 by v2\u001b[0m\u001b[0;34m\u001b[0m\u001b[0;34m\u001b[0m\u001b[0;34m\u001b[0m\u001b[0m\n\u001b[0;32m---> 10\u001b[0;31m \u001b[0mv_div\u001b[0m \u001b[0;34m=\u001b[0m \u001b[0mv1\u001b[0m \u001b[0;34m/\u001b[0m \u001b[0mv2\u001b[0m\u001b[0;34m\u001b[0m\u001b[0;34m\u001b[0m\u001b[0m\n\u001b[0m\u001b[1;32m     11\u001b[0m \u001b[0mprint\u001b[0m\u001b[0;34m(\u001b[0m\u001b[0mv_div\u001b[0m\u001b[0;34m)\u001b[0m\u001b[0;34m\u001b[0m\u001b[0;34m\u001b[0m\u001b[0m\n",
      "\u001b[0;31mRuntimeError\u001b[0m: Integer division of tensors using div or / is no longer supported, and in a future release div will perform true division as in Python 3. Use true_divide or floor_divide (// in Python) instead."
     ]
    }
   ],
   "source": [
    "# Subtract v1 from v2\n",
    "v_sub = v2 - v1\n",
    "print(v_sub)\n",
    "\n",
    "# Multiply the elements of v1 and v2\n",
    "v_mul = v1 * v2\n",
    "print(v_mul)\n",
    "\n",
    "# Divide the elements of v1 by v2\n",
    "v_div = v1 / v2\n",
    "print(v_div)"
   ]
  },
  {
   "cell_type": "markdown",
   "metadata": {
    "id": "FnKV6giXro83"
   },
   "source": [
    "Sometimes you would like to extract a subvector from the tensor, we call this operation *slicing* and it is as simple as this: "
   ]
  },
  {
   "cell_type": "code",
   "execution_count": null,
   "metadata": {
    "colab": {
     "base_uri": "https://localhost:8080/"
    },
    "id": "GQZOiqREro83",
    "outputId": "b65eeaae-3e48-4e57-8ea9-01d37c9dc2d1"
   },
   "outputs": [],
   "source": [
    "# Slicing: extract sub-Tensor [from:to)\n",
    "print(v_sum[0:3])"
   ]
  },
  {
   "cell_type": "markdown",
   "metadata": {
    "id": "-D2TeloQro83"
   },
   "source": [
    "You may also extract specific elements:"
   ]
  },
  {
   "cell_type": "code",
   "execution_count": null,
   "metadata": {
    "colab": {
     "base_uri": "https://localhost:8080/"
    },
    "id": "to3y-Z1xro84",
    "outputId": "81c80b3d-69a2-493e-eb70-9fe8765b1dce"
   },
   "outputs": [],
   "source": [
    "# Retrieving first, fourth and fifth elements\n",
    "print(v_sum[[0, 3, 4]])"
   ]
  },
  {
   "cell_type": "markdown",
   "metadata": {
    "id": "G2_U4oKqro84"
   },
   "source": [
    "Within deep learning, the fun really starts when the dimensionality of the tensors increases. So let's have a look at matrices.\n",
    "Let's create two of them, again there are many ways of instanciating matrices -> Google is your friend whenever you look for [one of them](https://letmegooglethat.com/?q=Instantiate+matrix+in+pytorch)."
   ]
  },
  {
   "cell_type": "code",
   "execution_count": null,
   "metadata": {
    "colab": {
     "base_uri": "https://localhost:8080/"
    },
    "id": "7qaqKT-iro84",
    "outputId": "abfbbe4f-f5c9-460c-fa0e-8e19f1565cda"
   },
   "outputs": [],
   "source": [
    "# The first matrix will be a 5x 10 matrix full of normally distributed random values:\n",
    "m1 = torch.randn(5, 10)\n",
    "\n",
    "# The second is the 10x10 identity matrix:\n",
    "m2 = torch.eye(10)\n",
    "\n",
    "m1, m2"
   ]
  },
  {
   "cell_type": "markdown",
   "metadata": {
    "id": "5k-S5EDiro84"
   },
   "source": [
    "**Slicing**\n",
    "\n",
    "Slicing in matrices (or any tensors) can be performed thanks to `:`, negative numbers count from the end. Feel free to play with this operator and to vizualize the results in order to be sure to understand what is slicing."
   ]
  },
  {
   "cell_type": "code",
   "execution_count": null,
   "metadata": {
    "colab": {
     "base_uri": "https://localhost:8080/"
    },
    "id": "F1Hq5L96ro85",
    "outputId": "4fc30fc0-f35b-4554-a7d5-dd666e4f446a"
   },
   "outputs": [],
   "source": [
    "m1[:4, 2:-1]"
   ]
  },
  {
   "cell_type": "markdown",
   "metadata": {
    "id": "CmqSuJ3Tro85"
   },
   "source": [
    "**Squeeze and Unsqueeze**\n",
    "\n",
    "Squeezing removes one dimension from the vector, on the opposite unsqueeze add a dimension."
   ]
  },
  {
   "cell_type": "code",
   "execution_count": null,
   "metadata": {
    "colab": {
     "base_uri": "https://localhost:8080/"
    },
    "id": "2HDRbAMiro85",
    "outputId": "6f8dc5e4-dc2b-422e-9439-62de05113b33"
   },
   "outputs": [],
   "source": [
    "print('Before unsqueeze: ', m1.shape)\n",
    "m1 = m1.unsqueeze(0)\n",
    "print('After unsqueeze: ', m1.shape)\n",
    "m1 = m1.squeeze(0)\n",
    "print('After squeeze: ', m1.shape)"
   ]
  },
  {
   "cell_type": "markdown",
   "metadata": {
    "id": "YqXegC1kro86"
   },
   "source": [
    "**Expand**\n",
    "\n",
    "Expand will reproduce the tensor along the expanded dimensions, see the [docs](https://pytorch.org/docs/stable/tensors.html#torch.Tensor.expand).\n",
    "For example if we want to create a 4x6 matrix where each column is a vector of integer that goes from 1 to 6 we could do the following:"
   ]
  },
  {
   "cell_type": "code",
   "execution_count": null,
   "metadata": {
    "colab": {
     "base_uri": "https://localhost:8080/"
    },
    "id": "sdMF3VlEro86",
    "outputId": "67b9ec68-5e67-4baf-f421-54a4f7093f8f"
   },
   "outputs": [],
   "source": [
    "v = torch.arange(1, 7)\n",
    "m_v = v.unsqueeze(1).expand(-1, 4)\n",
    "m_v"
   ]
  },
  {
   "cell_type": "markdown",
   "metadata": {
    "id": "s3xePopBro87"
   },
   "source": [
    "**View**\n",
    "\n",
    "Sometimes a tensor has not the right shape, for example when you manipulated images you sometimes need to process them as vectors. The `.view` operator will create a view that has the new shape, by *view* we mean that nothing has changed in memory but the tensor can now be manipulated as it had this new shape.\n",
    "\n",
    "Let us imagine that we have 10 256x256 RGB images that we would like to manipulated as vectors."
   ]
  },
  {
   "cell_type": "code",
   "execution_count": null,
   "metadata": {
    "colab": {
     "base_uri": "https://localhost:8080/"
    },
    "id": "fl8PLaWWro87",
    "outputId": "c565cefa-db21-4bb8-c159-486b574b9dfd"
   },
   "outputs": [],
   "source": [
    "images = torch.randn(10, 3, 256, 256)\n",
    "images_as_vectors = images.view(10, -1)\n",
    "print(images.shape, images_as_vectors.shape)"
   ]
  },
  {
   "cell_type": "markdown",
   "metadata": {
    "id": "HSTXRUX4ro87"
   },
   "source": [
    "Both variables model the same values though:"
   ]
  },
  {
   "cell_type": "code",
   "execution_count": null,
   "metadata": {
    "colab": {
     "base_uri": "https://localhost:8080/"
    },
    "id": "Qxb3APNWro87",
    "outputId": "6e67bb26-d833-4ffd-8dd3-1f625f471fa3"
   },
   "outputs": [],
   "source": [
    "print(torch.norm(images - images_as_vectors.view(10, 3, 256, 256)))"
   ]
  },
  {
   "cell_type": "markdown",
   "metadata": {
    "id": "pUtTu2d8ro88"
   },
   "source": [
    "We see below that if we change the values inside one of the view it will modify the tensor (which is common to both views)"
   ]
  },
  {
   "cell_type": "code",
   "execution_count": null,
   "metadata": {
    "colab": {
     "base_uri": "https://localhost:8080/"
    },
    "id": "ERARhYv4ro88",
    "outputId": "4c62a521-f998-45a2-9215-d849980a3955"
   },
   "outputs": [],
   "source": [
    "images_as_vectors[0, :] = torch.zeros_like(images_as_vectors[0, :])\n",
    "print(torch.norm(images - images_as_vectors.view(10, 3, 256, 256)))"
   ]
  },
  {
   "cell_type": "markdown",
   "metadata": {
    "id": "l1Gvfcl3ro88"
   },
   "source": [
    "**Permute**\n",
    "\n",
    "The permute operation can be used to permuted between dimensions. For example you can transpose a matrix as follows:"
   ]
  },
  {
   "cell_type": "code",
   "execution_count": null,
   "metadata": {
    "colab": {
     "base_uri": "https://localhost:8080/"
    },
    "id": "G3LfjbPuro88",
    "outputId": "8ebe3768-cd4c-41bd-e0b3-6ef91472147d"
   },
   "outputs": [],
   "source": [
    "m1.permute(1, 0), m1"
   ]
  },
  {
   "cell_type": "markdown",
   "metadata": {
    "id": "Wt0PBCCaro89"
   },
   "source": [
    "**Matrix multiplication**"
   ]
  },
  {
   "cell_type": "markdown",
   "metadata": {
    "id": "x6-eYxocro89"
   },
   "source": [
    "The `@` operator can be used to do matrix multiplication."
   ]
  },
  {
   "cell_type": "code",
   "execution_count": null,
   "metadata": {
    "colab": {
     "base_uri": "https://localhost:8080/"
    },
    "id": "pN1QhGq0ro89",
    "outputId": "e9ec91e1-63b0-446d-b0a8-c9c2bcbbd0c4"
   },
   "outputs": [],
   "source": [
    "m1 @ m2"
   ]
  },
  {
   "cell_type": "markdown",
   "metadata": {
    "id": "pyPomc2dro89"
   },
   "source": [
    "**Other predefined primitives**\n",
    "\n",
    "Tensors in PyTorch already implements many useful methods such as `.mean()`, `.std()`, `.sum()` and many others. These functions may take many different arguments however you will often see the word `axis` in the docs. This word explicits on which dimension of the tensor the method must work. As an example we can create a $5 \\times 10$ matrix of normally distributed random values and compute the mean value, the mean of each row or of each column."
   ]
  },
  {
   "cell_type": "code",
   "execution_count": null,
   "metadata": {
    "colab": {
     "base_uri": "https://localhost:8080/"
    },
    "id": "5MQ6ksYCro89",
    "outputId": "aeb8ee21-50e1-47d4-a6e3-14be72928131"
   },
   "outputs": [],
   "source": [
    "m_g = torch.randn(5, 10)\n",
    "m_g"
   ]
  },
  {
   "cell_type": "code",
   "execution_count": null,
   "metadata": {
    "colab": {
     "base_uri": "https://localhost:8080/"
    },
    "id": "4pTlt-AMro89",
    "outputId": "e9eeca72-9564-4136-ba44-87d3222a9542"
   },
   "outputs": [],
   "source": [
    "m_g.mean(0) # Computes the mean value along the axis 0, it is to say the mean of each column."
   ]
  },
  {
   "cell_type": "code",
   "execution_count": null,
   "metadata": {
    "colab": {
     "base_uri": "https://localhost:8080/"
    },
    "id": "zncl4hq3ro8-",
    "outputId": "d05f1b49-67ce-4363-8719-df46c6500dac"
   },
   "outputs": [],
   "source": [
    "m_g.mean(1) # Computes the mean value along the axis 1, it is to say the mean of each row."
   ]
  },
  {
   "cell_type": "code",
   "execution_count": null,
   "metadata": {
    "colab": {
     "base_uri": "https://localhost:8080/"
    },
    "id": "vqXoX8-kro8-",
    "outputId": "06072759-bb94-4253-cfd6-20fd817bbce9"
   },
   "outputs": [],
   "source": [
    "m_g.mean() # Computes the global mean value."
   ]
  },
  {
   "cell_type": "markdown",
   "metadata": {
    "id": "CPJ19zT7ro8-"
   },
   "source": [
    "### 1.2 Spot and solve the bug\n",
    "\n",
    "Assume we would like to compute the mean of the following tensor, but we are not yet familiar enough with PyTorch and therefore encounter the following error."
   ]
  },
  {
   "cell_type": "code",
   "execution_count": null,
   "metadata": {
    "colab": {
     "base_uri": "https://localhost:8080/",
     "height": 181
    },
    "id": "L6NcPAosro8-",
    "outputId": "978d966e-dc13-41d1-aff6-abaf4615e3de"
   },
   "outputs": [],
   "source": [
    "a = torch.tensor([8, 12, 80, 100])\n",
    "a.mean()"
   ]
  },
  {
   "cell_type": "markdown",
   "metadata": {
    "id": "6z6Js6Muro8_"
   },
   "source": [
    "<span style=\"color:red; font-style:italic\">Fix it with one operation for us, your code comes below.</span>"
   ]
  },
  {
   "cell_type": "code",
   "execution_count": null,
   "metadata": {
    "colab": {
     "base_uri": "https://localhost:8080/"
    },
    "id": "2r34M6RSro8_",
    "outputId": "d44de9ac-cf4f-4e78-faa4-755ec08b77c5"
   },
   "outputs": [],
   "source": [
    "a.float().mean()"
   ]
  },
  {
   "cell_type": "markdown",
   "metadata": {
    "id": "DShqE82Kro8_"
   },
   "source": [
    "### 1.3 You practice!"
   ]
  },
  {
   "cell_type": "markdown",
   "metadata": {
    "id": "lRADL0AWro8_"
   },
   "source": [
    "Create a tensor with $10^{5}$ i.i.d. normally (mean 5 and standard deviation 2) distributed values.\n",
    "\n",
    "<span style=\"color:red; font-style:italic\">Your code comes below</span>"
   ]
  },
  {
   "cell_type": "code",
   "execution_count": null,
   "metadata": {
    "id": "plCvUoFYro9A"
   },
   "outputs": [],
   "source": [
    "rnd_tensor = 5 + 2 * torch.randn((100000,))"
   ]
  },
  {
   "cell_type": "markdown",
   "metadata": {
    "id": "wWRHZz4ero9A"
   },
   "source": [
    "Compute the mean value of the tensor with a loop:"
   ]
  },
  {
   "cell_type": "code",
   "execution_count": null,
   "metadata": {
    "colab": {
     "base_uri": "https://localhost:8080/"
    },
    "id": "puF58KiYro9A",
    "outputId": "96ce8c78-0d9e-4a40-c24d-9bb411d90a98"
   },
   "outputs": [],
   "source": [
    "%%timeit\n",
    "rnd_tensor_sum = 0\n",
    "for v in rnd_tensor: rnd_tensor_sum += v\n",
    "rnd_tensor_sum /= len(rnd_tensor)"
   ]
  },
  {
   "cell_type": "markdown",
   "metadata": {
    "id": "SyvpdMyTro9A"
   },
   "source": [
    "Compute the mean and the standard deviation with the correct PyTorch operators:"
   ]
  },
  {
   "cell_type": "code",
   "execution_count": null,
   "metadata": {
    "colab": {
     "base_uri": "https://localhost:8080/"
    },
    "id": "9JqPSMPhro9B",
    "outputId": "403b43f6-95e2-49f4-a5ae-f52776f4dc96"
   },
   "outputs": [],
   "source": [
    "%%timeit\n",
    "rnd_tensor.mean()\n",
    "rnd_tensor.std()"
   ]
  },
  {
   "cell_type": "markdown",
   "metadata": {
    "id": "NxJA7v5Jro9B"
   },
   "source": [
    "What do you observe when you compare the running time of the two code snippets?"
   ]
  },
  {
   "cell_type": "markdown",
   "metadata": {
    "id": "iBWFCFRCro9B"
   },
   "source": [
    "<span style=\"color:green; font-style:italic\"> Explain in one sentence below</span>"
   ]
  },
  {
   "cell_type": "markdown",
   "metadata": {
    "id": "Nd5qqxfVro9B"
   },
   "source": [
    "The computation from pytorch are much faster: they are using vectorized operation which can be done in parallel on modern CPUs and using python expression is slow."
   ]
  },
  {
   "cell_type": "markdown",
   "metadata": {
    "id": "pj5eD6vVro9C"
   },
   "source": [
    "To get even more familiar with tensor manipulations trace the curve defined by this set of equations\n",
    "\n",
    "\n",
    "$t \\in [0, 2\\pi[$\n",
    "\n",
    "$x = 16 \\sin(t)^3$\n",
    "\n",
    "$y = 13 \\cos(t) - 5 \\cos(2t) - 2 \\cos(3t) - \\cos(4t)$\n",
    "\n",
    "For plotting purposes you can use the matplotlib library and the math library for the values of $\\pi$."
   ]
  },
  {
   "cell_type": "code",
   "execution_count": 2,
   "metadata": {
    "colab": {
     "base_uri": "https://localhost:8080/",
     "height": 265
    },
    "id": "0iFMYsjqro9C",
    "outputId": "6e9369c3-c24c-4787-ca17-0c591ab545c8"
   },
   "outputs": [
    {
     "data": {
      "image/png": "[encoded data removed]",
      "text/plain": [
       "<Figure size 432x288 with 1 Axes>"
      ]
     },
     "metadata": {
      "needs_background": "light"
     },
     "output_type": "display_data"
    }
   ],
   "source": [
    "from math import pi as pi \n",
    "t_range = torch.arange(0, 2*pi, 0.01)\n",
    "x_vals = 16 * torch.sin(t_range)**3\n",
    "y_vals = 13 * torch.cos(t_range) - 5 * torch.cos(2*t_range) - 2 * torch.cos(3*t_range) - torch.cos(4*t_range)\n",
    "\n",
    "from matplotlib import pyplot as plt\n",
    "plt.plot(x_vals, y_vals)\n",
    "plt.show()"
   ]
  },
  {
   "cell_type": "markdown",
   "metadata": {
    "id": "6TGfJ121ro9D"
   },
   "source": [
    "Now you can send the result to your favourite tinder date"
   ]
  },
  {
   "cell_type": "markdown",
   "metadata": {
    "id": "KjCM802pro9D"
   },
   "source": [
    "## 2. The autograd package"
   ]
  },
  {
   "cell_type": "markdown",
   "metadata": {
    "id": "YpVuOgnlro9D"
   },
   "source": [
    "The autograd package is what really makes PyTorch different from other algebraic language/libraries such as Matlab or Numpy. Whenever you make operations in PyTorch, it will create a computation graph that can later be used to compute derivatives of the output quantities with respect to the input or other intermediate computation steps. \n",
    "\n",
    "The official documentation says: *'torch.autograd provides classes and functions implementing automatic differentiation of arbitrary scalar valued functions. It requires minimal changes to the existing code - you only need to declare Tensor s for which gradients should be computed with the requires_grad=True keyword. '*"
   ]
  },
  {
   "cell_type": "markdown",
   "metadata": {
    "id": "7dhwOyXqro9E"
   },
   "source": [
    "### 2.1 A guided tour\n",
    "\n",
    "Let's see how autograd may be used to compute the derivative of an analytical function."
   ]
  },
  {
   "cell_type": "code",
   "execution_count": null,
   "metadata": {
    "id": "-VkYPuMrro9E"
   },
   "outputs": [],
   "source": [
    "def f(x):\n",
    "    return x**2 + 3*x - 2*torch.sin(x/5)"
   ]
  },
  {
   "cell_type": "code",
   "execution_count": null,
   "metadata": {
    "id": "EU2MDXgjro9E"
   },
   "outputs": [],
   "source": [
    "def hand_df(x):\n",
    "    return 2*x + 3 - 2/5*torch.cos(x/5)"
   ]
  },
  {
   "cell_type": "code",
   "execution_count": null,
   "metadata": {
    "colab": {
     "base_uri": "https://localhost:8080/"
    },
    "id": "21FFyoKfro9E",
    "outputId": "08813b3f-14c2-4e64-b5d8-ad8f344b279d"
   },
   "outputs": [],
   "source": [
    "x = torch.randn(1, requires_grad=True)\n",
    "y = f(x)\n",
    "df = torch.autograd.grad(y, x)\n",
    "\n",
    "x, y, df, hand_df(x)"
   ]
  },
  {
   "cell_type": "markdown",
   "metadata": {
    "id": "qQynabnAro9F"
   },
   "source": [
    "You see how autograd is able to compute the gradient of scalar values with respect to a vector automatically for you. We can exploit this for example to perform least squares curve fitting with a simple parametric model:"
   ]
  },
  {
   "cell_type": "code",
   "execution_count": null,
   "metadata": {
    "id": "3_oNItR8ro9F"
   },
   "outputs": [],
   "source": [
    "def unknown_function(x):\n",
    "    return (5*x + 3*x**2)*(x - 1)/2 + 3\n",
    "\n",
    "# generate some data\n",
    "x = torch.arange(-3, 3, .1)\n",
    "y = unknown_function(x)"
   ]
  },
  {
   "cell_type": "code",
   "execution_count": null,
   "metadata": {
    "id": "Ju9c2uu4ro9F"
   },
   "outputs": [],
   "source": [
    "# We define a parametric model\n",
    "def parametric_function(w, x):\n",
    "    x = x.unsqueeze(1)\n",
    "    return torch.cat((torch.ones_like(x), x, x**2, x**3), 1) @ w\n",
    "\n",
    "# random initalization of the parameters\n",
    "param = torch.randn(4, requires_grad=True)"
   ]
  },
  {
   "cell_type": "markdown",
   "metadata": {
    "id": "othsASq4ro9G"
   },
   "source": [
    "Let's take a look at what happens before training"
   ]
  },
  {
   "cell_type": "code",
   "execution_count": null,
   "metadata": {
    "colab": {
     "base_uri": "https://localhost:8080/",
     "height": 298
    },
    "id": "yzEbfsqCro9G",
    "outputId": "82355001-445d-4d56-e26d-dfb7e6e6d74a"
   },
   "outputs": [],
   "source": [
    "plt.figure()\n",
    "plt.title('Before Training')\n",
    "plt.plot(x, y, label='Observed')\n",
    "plt.plot(x, parametric_function(param, x).detach(), label='Predicted')\n",
    "plt.legend()"
   ]
  },
  {
   "cell_type": "markdown",
   "metadata": {
    "id": "YCB2NL0Lro9G"
   },
   "source": [
    "We perform gradient descent on the mean squared error loss function in order to fit the observed curve.\n",
    "Note how the torch.autograd.grad function gives us automatically access to the gradients which we then use during the optimization step. For more information about autograd you can check this short [tutorial](https://pytorch.org/tutorials/beginner/blitz/autograd_tutorial.html) and the [documentation](https://pytorch.org/docs/stable/autograd.html)."
   ]
  },
  {
   "cell_type": "code",
   "execution_count": null,
   "metadata": {
    "colab": {
     "base_uri": "https://localhost:8080/",
     "height": 298
    },
    "id": "TREigcF8ro9H",
    "outputId": "422f7652-8bb8-41da-8801-6fc8a9e2d2e7"
   },
   "outputs": [],
   "source": [
    "lr = .001\n",
    "for i in range(1000):\n",
    "    y_pred = parametric_function(param, x)\n",
    "    mse = ((y - y_pred)**2).mean()\n",
    "    grad = torch.autograd.grad(mse, param)[0]\n",
    "    param = param - lr * grad\n",
    "plt.figure()\n",
    "plt.title('After Training')\n",
    "plt.plot(x, y, label='Observed')\n",
    "plt.plot(x, parametric_function(param, x).detach(), label='Predicted')\n",
    "plt.legend()"
   ]
  },
  {
   "cell_type": "markdown",
   "metadata": {
    "id": "clqlzREMro9H"
   },
   "source": [
    "Storing the gradient values into new variables can quickly become cumbersome, fortunately PyTorch developers found a solution to this, PyTorch **accumulates** the gradient values directly into the corresponding tensor (in the 'grad' property). To use this option you have to use the backward function on the quantity of interest and it will compute the gradient of this quantity with respect to each tensor that has the 'requires_grad' flag set to True. Later on in this notebook we will see how this, together with Optimizer objects, makes gradient descent very simple."
   ]
  },
  {
   "cell_type": "code",
   "execution_count": null,
   "metadata": {
    "colab": {
     "base_uri": "https://localhost:8080/"
    },
    "id": "Y2eHBpZ4ro9H",
    "outputId": "049b5c7f-c116-4fe8-a7b4-5ea01d3ec0fa"
   },
   "outputs": [],
   "source": [
    "x = torch.randn(10)\n",
    "w = torch.arange(10).float()\n",
    "w.requires_grad = True\n",
    "y = x.T @ w # Simple linear function\n",
    "y.backward()\n",
    "\n",
    "x, w, w.grad"
   ]
  },
  {
   "cell_type": "markdown",
   "metadata": {
    "id": "Ar7ANbpwro9H"
   },
   "source": [
    "### 2.2 You practice!"
   ]
  },
  {
   "cell_type": "markdown",
   "metadata": {
    "id": "5o0EOTPero9I"
   },
   "source": [
    "Now we would like to perform the same kind of curve fitting that we did a few cells above, but this time we want to use the backward method instead of torch.autograd.grad(). Remember that PyTorch will keep accumulating the gradient values in the `.grad` property of each tensor. To deal with this you can reset the values of the gradients to 0 with the [`.zero_()`](https://pytorch.org/docs/stable/tensors.html#torch.Tensor.zero_) method. To make your life easier, you can start from the learning loop two cells above, be careful to reset the parameters before training and to not use the `torch.autograd.grad` function.\n",
    "\n",
    "<span style=\"color:red; font-style:italic\">Your code comes below</span>"
   ]
  },
  {
   "cell_type": "code",
   "execution_count": null,
   "metadata": {
    "colab": {
     "base_uri": "https://localhost:8080/",
     "height": 562
    },
    "id": "thOf7zxqro9I",
    "outputId": "71f986fb-0f20-4676-8af6-729cd59715d9"
   },
   "outputs": [],
   "source": [
    "param = y_pred = mse = x = y = None\n",
    "x = torch.arange(-3, 3, .1)\n",
    "y = unknown_function(x)\n",
    "param = torch.randn(4, requires_grad=True)\n",
    "param.grad = torch.zeros_like(param)\n",
    "\n",
    "epoches = range(1000)\n",
    "\n",
    "lr = .001\n",
    "losses = []\n",
    "for i in epoches:\n",
    "    param.grad.zero_()\n",
    "    y_pred = parametric_function(param, x)\n",
    "    mse = ((y - y_pred)**2).mean()\n",
    "    losses += [mse.item()]\n",
    "    mse.backward()\n",
    "    with torch.no_grad():\n",
    "        param -= lr * param.grad\n",
    "\n",
    "plt.figure()\n",
    "plt.title('After Training')\n",
    "plt.plot(x, y, label='Observed')\n",
    "plt.plot(x, parametric_function(param, x).detach(), label='Predicted')\n",
    "plt.legend()\n",
    "\n",
    "plt.figure()\n",
    "plt.title('Training Loss')\n",
    "plt.plot(list(epoches), losses, label='loss')\n",
    "plt.legend()\n"
   ]
  },
  {
   "cell_type": "markdown",
   "metadata": {
    "id": "j9vRLPuCro9I"
   },
   "source": [
    "## 3. The `torch.nn` and `torch.optim` packages"
   ]
  },
  {
   "cell_type": "markdown",
   "metadata": {
    "id": "ovcoPsqqro9I"
   },
   "source": [
    "You should now be able to define your own neural network and train it with tensorial operations and the autograd package. However this would require you to explicitely define every operation in the neural network and to keep track of all the parameters for performing gradient descent. Fortunately, PyTorch provides the `torch.nn` and `torch.optim` packages which implement everything you need to define and train a neural network efficiently."
   ]
  },
  {
   "cell_type": "code",
   "execution_count": 3,
   "metadata": {
    "id": "4wer0qA_ro9I"
   },
   "outputs": [],
   "source": [
    "# Importing both packages\n",
    "import torch.nn as nn\n",
    "import torch.optim as optim"
   ]
  },
  {
   "cell_type": "markdown",
   "metadata": {
    "id": "YffaAwK_ro9I"
   },
   "source": [
    "### 3.1 A guided tour"
   ]
  },
  {
   "cell_type": "markdown",
   "metadata": {
    "id": "E5JD-KlPro9I"
   },
   "source": [
    "**`nn.Functional`**\n",
    "\n",
    "The `nn` module implements many predefined functions which should simplify your life for building your own neural networks, the complete list can be accessed [here](https://pytorch.org/docs/stable/nn.functional.html). \n",
    "\n",
    "Let's play with some of them, below we see some commonly used functions:"
   ]
  },
  {
   "cell_type": "code",
   "execution_count": null,
   "metadata": {
    "colab": {
     "base_uri": "https://localhost:8080/",
     "height": 244
    },
    "id": "fMtID0aUro9J",
    "outputId": "8c42aa77-15d5-46c4-ca45-8804bc47796f"
   },
   "outputs": [],
   "source": [
    "x = torch.arange(-5, 5, .1)\n",
    "\n",
    "plt.figure(figsize=(10, 3))\n",
    "y1 = nn.functional.relu(x)\n",
    "plt.subplot(1, 3, 1)\n",
    "plt.title('ReLU')\n",
    "plt.plot(x, y1)\n",
    "\n",
    "y2 = nn.functional.leaky_relu(x, negative_slope=.2)\n",
    "plt.subplot(1, 3, 2)\n",
    "plt.title('Leaky ReLU')\n",
    "plt.plot(x, y2)\n",
    "\n",
    "y3 = nn.functional.linear(x.unsqueeze(1), weight=torch.tensor([.5]))\n",
    "plt.subplot(1, 3, 3)\n",
    "plt.title('Linear')\n",
    "plt.plot(x, y3)"
   ]
  },
  {
   "cell_type": "markdown",
   "metadata": {
    "id": "92CyphHxro9J"
   },
   "source": [
    "**`nn.Module`**\n",
    "\n",
    "\n",
    "PyTorch provides a very important base class named `nn.Module`. This class is used to build complex neural networks. In fact any class which inherits from it will automatically keep track of the parameters of its components (or properties). To define your own `nn.Module` sub-class you only need to implement the `__init__` constructor and the forward function. Let's see an example:"
   ]
  },
  {
   "cell_type": "code",
   "execution_count": null,
   "metadata": {
    "id": "re3n7-XJro9J"
   },
   "outputs": [],
   "source": [
    "#This means we create a class named \"MySimpleParametricModel\" which inherits from nn.Module.\n",
    "class MySimpleParametricModel(nn.Module): \n",
    "    # We could add arguments to the constructor however we do not need that here.\n",
    "    def __init__(self):\n",
    "        # We need to call the parent's constructor.\n",
    "        super(MySimpleParametricModel, self).__init__()\n",
    "        \n",
    "        # Here we add a property 'w' to the module which is itself a module that implements a linear layer.\n",
    "        self.w = nn.Linear(in_features=3, out_features=1, bias=True)\n",
    "        \n",
    "    def forward(self, x):\n",
    "        return self.w(x)"
   ]
  },
  {
   "cell_type": "markdown",
   "metadata": {
    "id": "3v_MrRt0ro9J"
   },
   "source": [
    "We can now instantiate an object of the `MySimpleParametricModel` class and have a look at its parameters!"
   ]
  },
  {
   "cell_type": "code",
   "execution_count": null,
   "metadata": {
    "colab": {
     "base_uri": "https://localhost:8080/"
    },
    "id": "ep-8bbI-ro9J",
    "outputId": "a063a8df-40bc-4273-b9d3-23d93b3bed13"
   },
   "outputs": [],
   "source": [
    "model = MySimpleParametricModel()\n",
    "for param in model.parameters():\n",
    "    print(param)"
   ]
  },
  {
   "cell_type": "markdown",
   "metadata": {
    "id": "8ye_Upu8ro9J"
   },
   "source": [
    "You can see that by inheritance from the `nn.Module` class, the parameters of any module used as a property of an object from the class `MySimpleParametricModel` is now accessible as a parameter of this object.\n",
    "The `nn.Module` implements other useful instructions such as user-friendly printing of the module which summarize the modules contained in it:"
   ]
  },
  {
   "cell_type": "code",
   "execution_count": null,
   "metadata": {
    "colab": {
     "base_uri": "https://localhost:8080/"
    },
    "id": "1nKKKu1Sro9K",
    "outputId": "76ecb3fd-85cf-4872-b574-2b4f44bfa4c1"
   },
   "outputs": [],
   "source": [
    "print(model)"
   ]
  },
  {
   "cell_type": "markdown",
   "metadata": {
    "id": "AApewfFGro9K"
   },
   "source": [
    "PyTorch already implements many `nn.modules` that are often used as neural networks components such as convolutions, activations and linear layers.\n",
    "For example let's imagine we want to build a simple 3 layers MLP:"
   ]
  },
  {
   "cell_type": "code",
   "execution_count": null,
   "metadata": {
    "id": "LD8vzqonro9L"
   },
   "outputs": [],
   "source": [
    "class MySimpleMLP(nn.Module):\n",
    "    def __init__(self, in_size, hidden_units, out_size):\n",
    "        super(MySimpleMLP, self).__init__()\n",
    "        \n",
    "        # Let us now define the linear layers we need:\n",
    "        self.fc1 = nn.Linear(in_size, hidden_units)\n",
    "        self.fc2 = nn.Linear(hidden_units, hidden_units)\n",
    "        self.fc3 = nn.Linear(hidden_units, out_size)\n",
    "        \n",
    "    # We have also to define what is the forward of this module:\n",
    "    def forward(self, x):\n",
    "        h1 = nn.functional.relu(self.fc1(x))\n",
    "        h2 = nn.functional.relu(self.fc2(h1))\n",
    "        out = self.fc3(h2)\n",
    "        return out"
   ]
  },
  {
   "cell_type": "code",
   "execution_count": null,
   "metadata": {
    "colab": {
     "base_uri": "https://localhost:8080/",
     "height": 282
    },
    "id": "fgNCVj9sro9L",
    "outputId": "35f56d8c-5542-49e2-e46d-d978cb96d599"
   },
   "outputs": [],
   "source": [
    "# Instantiate a 3 layers MLP (with 10 hidden neurons in each layer) that computes a scalar quantity from a scalar input.\n",
    "my_net = MySimpleMLP(1, 10, 1)\n",
    "\n",
    "# We usually give batches of values to nn modules, where the first dimension is the dimension of the batch while \n",
    "#the others must represent your data (here a scalar).\n",
    "x = torch.arange(-2, 2, .1).unsqueeze(1) \n",
    "\n",
    "# Detach is used to detach the tensor from its computation graph, it is required to \n",
    "#be able to convert the tensor as numpy matrix (which is implicitely made when you plot a tensor).\n",
    "y = my_net(x).detach() \n",
    "plt.plot(x, y)"
   ]
  },
  {
   "cell_type": "markdown",
   "metadata": {
    "id": "UhndgamBro9M"
   },
   "source": [
    "**`nn.Sequential`**\n",
    "\n",
    "Writing the forward pass can become inconvenient and dirty if you want to add a multiple number of layers, for that you can use the `nn.Sequential` module which automatically chains modules with each others."
   ]
  },
  {
   "cell_type": "code",
   "execution_count": null,
   "metadata": {
    "id": "pcx11quhro9M"
   },
   "outputs": [],
   "source": [
    "class MyElegantSimpleMLP(nn.Module):\n",
    "    def __init__(self, in_size, hidden_units, out_size):\n",
    "        super(MyElegantSimpleMLP, self).__init__()\n",
    "        \n",
    "        self.net = nn.Sequential(nn.Linear(in_size, hidden_units), nn.ReLU(),\n",
    "                                nn.Linear(hidden_units, hidden_units), nn.ReLU(),\n",
    "                                nn.Linear(hidden_units, out_size))\n",
    "        \n",
    "    # We have also to define what is the forward of this module:\n",
    "    def forward(self, x):\n",
    "        out = self.net(x)\n",
    "        return out"
   ]
  },
  {
   "cell_type": "code",
   "execution_count": null,
   "metadata": {
    "colab": {
     "base_uri": "https://localhost:8080/",
     "height": 282
    },
    "id": "fOGNKkE0ro9M",
    "outputId": "61a0292a-aea0-4899-d9e0-1bd2f848d6f0"
   },
   "outputs": [],
   "source": [
    "# Instantiate a 3 layers MLP (with 30 hidden neurons in each layer) \n",
    "# that computes scalar quantity from scalar input.\n",
    "my_net = MyElegantSimpleMLP(1, 30, 1)\n",
    "\n",
    "x = torch.arange(-2, 2, .1).unsqueeze(1) \n",
    "y = my_net(x).detach() \n",
    "\n",
    "plt.plot(x, y)"
   ]
  },
  {
   "cell_type": "markdown",
   "metadata": {
    "id": "nSg882XDro9M"
   },
   "source": [
    "**Optimizer**\n",
    "\n",
    "You should now be able to define any kind of neural network you like. However if you want to optimize it you would still need to iterate through all the parameters of the net thanks to the `.parameters()` iterator. In principle you could do that to update the values accordingly to their gradient and to your update rule, however this would require some code and would be prone to bugs. Instead, the `nn.Optimizer` implements classes that handle that for you!\n",
    "For example let's say you would like to learn the function $y := f(x) = x^2$ with a neural network with mean squared error and stochastic gradient descent:"
   ]
  },
  {
   "cell_type": "code",
   "execution_count": null,
   "metadata": {
    "id": "aIstJ3sbro9M"
   },
   "outputs": [],
   "source": [
    "# We create an object from the class SGD that will make the updates for us.\n",
    "sgd_optimizer = optim.SGD(params=my_net.parameters(), lr=.001)\n",
    "\n",
    "# Let's do some learning steps with randomly generated x values:\n",
    "for i in range(5000):\n",
    "    x = torch.randn(100, 1)\n",
    "    y = x**2\n",
    "    y_pred = my_net(x)\n",
    "    \n",
    "    # We have to set all the grad values of the parameters of our net to zero, we can use zero_grad instruction\n",
    "    sgd_optimizer.zero_grad()\n",
    "    \n",
    "    # Let's compute the loss and the gradients with respect to it.\n",
    "    loss = ((y - y_pred)**2).mean()\n",
    "    loss.backward()\n",
    "    \n",
    "    # And now we update the parameters:\n",
    "    sgd_optimizer.step()"
   ]
  },
  {
   "cell_type": "markdown",
   "metadata": {
    "id": "dh9JpDucro9M"
   },
   "source": [
    "Let's check the result:"
   ]
  },
  {
   "cell_type": "code",
   "execution_count": null,
   "metadata": {
    "colab": {
     "base_uri": "https://localhost:8080/",
     "height": 282
    },
    "id": "dx5psO_Cro9N",
    "outputId": "df230a41-11db-4921-87b7-8e0bc14f641a"
   },
   "outputs": [],
   "source": [
    "x = torch.arange(-2, 2, .1).unsqueeze(1) \n",
    "\n",
    "y = my_net(x).detach() \n",
    "plt.plot(x, y, label='Neural network')\n",
    "plt.plot(x, x**2, label='$x^2$')\n",
    "plt.legend()"
   ]
  },
  {
   "cell_type": "markdown",
   "metadata": {
    "id": "UUt6vcNLro9N"
   },
   "source": [
    "This is not perfect but we can see that the network learned to model something that looks like a quadratic function."
   ]
  },
  {
   "cell_type": "markdown",
   "metadata": {
    "id": "RMPdePNdro9N"
   },
   "source": [
    "### Training our first neural network classifier\n",
    "\n",
    "We now have all the necessary knowledge to build and train our very first neural network on a simple binary classification task. To do this we will start by importing a toy example dataset from the sklearn library, and then create and use the resulting splits for training."
   ]
  },
  {
   "cell_type": "code",
   "execution_count": 5,
   "metadata": {
    "colab": {
     "base_uri": "https://localhost:8080/",
     "height": 281
    },
    "id": "Sy5cS9aMro9N",
    "outputId": "176c845a-d98d-4343-ff01-6451b3668f91"
   },
   "outputs": [
    {
     "data": {
      "image/png": "[encoded data removed]",
      "text/plain": [
       "<Figure size 432x288 with 1 Axes>"
      ]
     },
     "metadata": {
      "needs_background": "light"
     },
     "output_type": "display_data"
    }
   ],
   "source": [
    "from sklearn.datasets import make_moons\n",
    "from sklearn.model_selection import train_test_split\n",
    "import numpy as np\n",
    "\n",
    "X, Y = make_moons(500, noise=0.1) # create artificial data\n",
    "\n",
    "X_train, X_test, Y_train, Y_test = train_test_split(X, Y, test_size=0.25, random_state=73) # create splits\n",
    "\n",
    "plt.scatter(X_train[:,0], X_train[:,1], c=Y_train) # visualize the data\n",
    "plt.title('Moon Data')\n",
    "plt.show()"
   ]
  },
  {
   "cell_type": "markdown",
   "metadata": {
    "id": "tpzjsnJ5ro9N"
   },
   "source": [
    "When we train a neural network in PyTorch, no matter how complex the model is, we always go through a training loop. In this loop we feed the data to the model and get its predictions. We then compare the predictions of the network to the ground truth and adjust the parameters of the model by performing gradient descent. We have already seen all the components that are necessary for going through this process, so the only thing that remains to be done is to put all the pieces of this notebook together and train our **first awesome neural network!**\n",
    "\n",
    "During the training stage we would like to keep track whether our model will improve over the different iterations. It is therefore good practice to monitor whether the loss we are minimizing decreases over time, and whether the overall performance of the model increases the more training iterations we perform. Remember that one of the key components of Deep Learning are tensors, and we might not always have the data coming in this specific format. It is therefore necessary to convert it if needed.\n",
    "\n",
    "Once the data is in an appropriate format it can be given to the model, and we can obtain its predictions. This is what we usually call the **forward pass**. Once we obtain our predictions, we can compare how close they are to what we would like the network to predict: to do this we feed our predictions together with the true labels through the loss function which are minimizing. At its early training stages the network will very likely perform poorly: we can improve its performance by adjusting its weights by gradient descent. We can do this very easily by obtaining the gradients of the parameters with respect to the loss function we are minimizing (**backward pass**) and adjusting these weights with the optimizer we defined previously.\n",
    "\n",
    "Once all of this is done we can measure the performance of our model, which in this case will be reflected by its accuracy in classifying the synthetic dataset we created beforehand. "
   ]
  },
  {
   "cell_type": "code",
   "execution_count": null,
   "metadata": {
    "id": "r9eTlDGBro9N"
   },
   "outputs": [],
   "source": [
    "net = nn.Sequential(nn.Linear(2, 50), nn.ReLU(),\n",
    "                   nn.Linear(50, 50), nn.ReLU(),\n",
    "                   nn.Linear(50, 1), nn.Sigmoid())\n",
    "optimizer = optim.Adam(net.parameters(), lr=.01)"
   ]
  },
  {
   "cell_type": "code",
   "execution_count": null,
   "metadata": {
    "id": "J9sG514vro9N"
   },
   "outputs": [],
   "source": [
    "def loss_func(y_hat, y):\n",
    "    return nn.BCELoss()(y_hat, y)"
   ]
  },
  {
   "cell_type": "code",
   "execution_count": null,
   "metadata": {
    "id": "PXmIJFwNro9N"
   },
   "outputs": [],
   "source": [
    "train_loss = [] # where we keep track of the loss\n",
    "train_accuracy = [] # where we keep track of the accuracy of the model\n",
    "iters = 1000 # number of training iterations\n",
    "\n",
    "Y_train_t = torch.FloatTensor(Y_train).reshape(-1, 1) # re-arrange the data to an appropriate tensor\n",
    "\n",
    "for i in range(iters):\n",
    "    X_train_t = torch.FloatTensor(X_train)\n",
    "    y_hat = net(X_train_t) # forward pass\n",
    "    \n",
    "    loss = loss_func(y_hat, Y_train_t) # compute the loss\n",
    "    loss.backward() # obtain the gradients with respect to the loss\n",
    "    optimizer.step() # perform one step of gradient descent\n",
    "    optimizer.zero_grad() # reset the gradients to 0\n",
    "    \n",
    "    y_hat_class = np.where(y_hat.detach().numpy()<0.5, 0, 1) # we assign an appropriate label based on the network's prediction\n",
    "    accuracy = np.sum(Y_train.reshape(-1,1)==y_hat_class) / len(Y_train) # compute final accuracy\n",
    "    \n",
    "    train_accuracy.append(accuracy)\n",
    "    train_loss.append(loss.item())"
   ]
  },
  {
   "cell_type": "code",
   "execution_count": null,
   "metadata": {
    "colab": {
     "base_uri": "https://localhost:8080/",
     "height": 367
    },
    "id": "87GF9eeJro9O",
    "outputId": "d06d7dfd-0caf-410f-938d-90e86b735d35"
   },
   "outputs": [],
   "source": [
    "plt.figure(figsize=(13, 5))\n",
    "plt.subplot(1, 2, 1)\n",
    "plt.title('Training Loss')\n",
    "plt.plot(train_loss)\n",
    "plt.xlabel('Iterations')\n",
    "plt.ylabel('Loss (Binary Cross Entropy)')\n",
    "\n",
    "plt.subplot(1, 2, 2)\n",
    "plt.title('Training Accuracy')\n",
    "plt.plot(train_accuracy)\n",
    "plt.xlabel('Iterations')\n",
    "plt.ylabel('Accuracy')"
   ]
  },
  {
   "cell_type": "code",
   "execution_count": null,
   "metadata": {
    "colab": {
     "base_uri": "https://localhost:8080/",
     "height": 300
    },
    "id": "uQHbkOTyro9O",
    "outputId": "46383f41-74cf-4ab4-f276-50fabf1ca67e"
   },
   "outputs": [],
   "source": [
    "def plot_decision_boundary(X, y, model, steps=1000, cmap='Paired'):\n",
    "    \"\"\"\n",
    "    Function to plot the decision boundary and data points of a model.\n",
    "    Data points are colored based on their actual label.\n",
    "    \"\"\"\n",
    "    cmap = plt.get_cmap(cmap)\n",
    "\n",
    "    # Define region of interest by data limits\n",
    "    xmin, xmax = X[:,0].min() - .5, X[:,0].max() + .5\n",
    "    ymin, ymax = X[:,1].min() - .5, X[:,1].max() + .5\n",
    "    steps = 1000\n",
    "    x_span = np.linspace(xmin, xmax, steps)\n",
    "    y_span = np.linspace(ymin, ymax, steps)\n",
    "    xx, yy = np.meshgrid(x_span, y_span)\n",
    "\n",
    "    # Make predictions across region of interest\n",
    "    with torch.no_grad():\n",
    "        labels = model(torch.FloatTensor(np.c_[xx.ravel(), yy.ravel()]))\n",
    "\n",
    "    # Plot decision boundary in region of interest\n",
    "    z = labels.reshape(xx.shape)\n",
    "\n",
    "    fig, ax = plt.subplots()\n",
    "    ax.contourf(xx, yy, z, cmap=cmap, alpha=0.5)\n",
    "\n",
    "    # Get predicted labels on training data and plot\n",
    "    train_labels = model(torch.FloatTensor(X))\n",
    "    ax.scatter(X[:,0], X[:,1], c=y.ravel(), cmap=cmap, lw=0)\n",
    "\n",
    "    return fig, ax\n",
    "\n",
    "plot_decision_boundary(X_train,Y_train, net, cmap = 'RdBu')"
   ]
  },
  {
   "cell_type": "markdown",
   "metadata": {
    "id": "M-CF2E-zro9O"
   },
   "source": [
    "### 3.2 Discuss the bug!"
   ]
  },
  {
   "cell_type": "markdown",
   "metadata": {
    "id": "vMQBgtHoro9O"
   },
   "source": [
    "After actively following the theoretical lectures of professor Louppe, our favourite Italian student Al Dente remembered that a common loss function one can use when dealing with classification problems is the Cross-Entropy loss. However when implementing it in PyTorch Al remains disappointed since his code does not work anymore.\n",
    "\n",
    "What do you think is the cause of this bug? Maybe, first check the [documentation about `torch.nn.CrossEntropyLoss`](https://pytorch.org/docs/stable/generated/torch.nn.CrossEntropyLoss.html#torch.nn.CrossEntropyLoss).\n",
    "Briefly discuss your idea and **bonus** can you come up with a solution (this should be feasible with 3 modifications)?"
   ]
  },
  {
   "cell_type": "code",
   "execution_count": null,
   "metadata": {
    "id": "dciphpvIro9O"
   },
   "outputs": [],
   "source": [
    "n_input_dim = X_train.shape[1]\n",
    "n_hidden = 4 \n",
    "n_output = 2\n",
    "\n",
    "net = nn.Sequential(\n",
    "    nn.Linear(n_input_dim, n_hidden),\n",
    "    nn.ELU(),\n",
    "    nn.Linear(n_hidden, n_output))\n",
    "\n",
    "loss_func = nn.CrossEntropyLoss()\n",
    "learning_rate = 0.01\n",
    "optimizer = torch.optim.Adam(net.parameters(), lr=learning_rate)\n",
    "\n",
    "train_loss = [] \n",
    "train_accuracy = [] \n",
    "iters = 1000 \n",
    "\n",
    "Y_train_t = torch.LongTensor(Y_train).reshape(-1)\n",
    "for i in range(iters):\n",
    "    X_train_t = torch.FloatTensor(X_train)\n",
    "    y_hat = net(X_train_t) \n",
    "    loss = loss_func(y_hat, Y_train_t) \n",
    "    loss.backward() \n",
    "    optimizer.step() \n",
    "    optimizer.zero_grad() "
   ]
  },
  {
   "cell_type": "markdown",
   "metadata": {
    "id": "fBVQspt_ro9O"
   },
   "source": [
    "<span style=\"color:green; font-style:italic\"> Your explanation comes below</span>"
   ]
  },
  {
   "cell_type": "markdown",
   "metadata": {
    "id": "Cp1_ZFRPro9O"
   },
   "source": [
    "To use the CrosseEntropy loss\n",
    "- the network output is supposed to be a probability for each class, here there are two classes so the number of outputs should be 2\n",
    "- the criterion is supposed to be the index of the class for each sample: therefore it should be a LongTensor and its shape should be (n_example,) instead of (n_example, 2)"
   ]
  },
  {
   "cell_type": "markdown",
   "metadata": {
    "id": "egKyBSFhro9P"
   },
   "source": [
    "### 3.3 You practice!"
   ]
  },
  {
   "cell_type": "markdown",
   "metadata": {
    "id": "zkGHmWOIro9P"
   },
   "source": [
    "Now try to play around with the neural network yourself: you are free to experiment with whatever you think is best exploring. Your goal will be to come up with three modifications to the network we initially provided you with and to compare the performance of your modified models to the one we have given you beforehand. As potential modifications you could experiment with e.g. changing the depth or width of the model, modify the activation function, learning rate, optimizer, etc.\n",
    "\n",
    "Report your results with some appropriate plots and with a brief presentation of what you observe.\n",
    "\n",
    "<span style=\"color:red; font-style:italic\"> Your code comes below</span>"
   ]
  },
  {
   "cell_type": "code",
   "execution_count": 6,
   "metadata": {
    "colab": {
     "base_uri": "https://localhost:8080/",
     "height": 367
    },
    "id": "RtCIt57Sro9Q",
    "outputId": "8d02c5db-cca7-4957-d6b2-07bb3c274ba1"
   },
   "outputs": [
    {
     "data": {
      "text/plain": [
       "Text(0, 0.5, 'Accuracy')"
      ]
     },
     "execution_count": 6,
     "metadata": {},
     "output_type": "execute_result"
    },
    {
     "data": {
      "image/png": "[encoded data removed]",
      "text/plain": [
       "<Figure size 936x360 with 2 Axes>"
      ]
     },
     "metadata": {
      "needs_background": "light"
     },
     "output_type": "display_data"
    }
   ],
   "source": [
    "# deep thin network\n",
    "net = nn.Sequential(nn.Linear(2, 4), nn.ReLU(),\n",
    "                   nn.Linear(4, 4), nn.ReLU(),\n",
    "                   nn.Linear(4, 4), nn.ReLU(),\n",
    "                   nn.BatchNorm1d(4),\n",
    "                   nn.Linear(4, 4), nn.ReLU(),\n",
    "                   nn.Linear(4, 4), nn.ReLU(),\n",
    "                   nn.Linear(4, 1), nn.Sigmoid())\n",
    "optimizer = optim.Adam(net.parameters(), lr=.01)\n",
    "\n",
    "def loss_func(y_hat, y):\n",
    "    return nn.BCELoss()(y_hat, y)\n",
    "\n",
    "train_loss = [] # where we keep track of the loss\n",
    "train_accuracy = [] # where we keep track of the accuracy of the model\n",
    "iters = 1000 # number of training iterations\n",
    "\n",
    "Y_train_t = torch.FloatTensor(Y_train).reshape(-1, 1) # re-arrange the data to an appropriate tensor\n",
    "\n",
    "for i in range(iters):\n",
    "    X_train_t = torch.FloatTensor(X_train)\n",
    "    y_hat = net(X_train_t) # forward pass\n",
    "    \n",
    "    loss = loss_func(y_hat, Y_train_t) # compute the loss\n",
    "    loss.backward() # obtain the gradients with respect to the loss\n",
    "    optimizer.step() # perform one step of gradient descent\n",
    "    optimizer.zero_grad() # reset the gradients to 0\n",
    "    \n",
    "    # compute accuracy differently\n",
    "    y_hat_class = (y_hat >= 0.5).to(int)\n",
    "    accuracy = torch.eq(y_hat_class, Y_train_t).to(float).mean()\n",
    "    \n",
    "    train_accuracy.append(accuracy)\n",
    "    train_loss.append(loss.item())\n",
    "\n",
    "plt.figure(figsize=(13, 5))\n",
    "plt.subplot(1, 2, 1)\n",
    "plt.title('Training Loss')\n",
    "plt.plot(train_loss)\n",
    "plt.xlabel('Iterations')\n",
    "plt.ylabel('Loss (Binary Cross Entropy)')\n",
    "\n",
    "plt.subplot(1, 2, 2)\n",
    "plt.title('Training Accuracy')\n",
    "plt.plot(train_accuracy)\n",
    "plt.xlabel('Iterations')\n",
    "plt.ylabel('Accuracy')"
   ]
  },
  {
   "cell_type": "code",
   "execution_count": 7,
   "metadata": {
    "colab": {
     "base_uri": "https://localhost:8080/",
     "height": 367
    },
    "id": "QuQDtI2K8FrJ",
    "outputId": "73243a5f-36ce-423a-c664-0931a8f6c775"
   },
   "outputs": [
    {
     "data": {
      "text/plain": [
       "Text(0, 0.5, 'Accuracy')"
      ]
     },
     "execution_count": 7,
     "metadata": {},
     "output_type": "execute_result"
    },
    {
     "data": {
      "image/png": "[encoded data removed]",
      "text/plain": [
       "<Figure size 936x360 with 2 Axes>"
      ]
     },
     "metadata": {
      "needs_background": "light"
     },
     "output_type": "display_data"
    }
   ],
   "source": [
    "# Use Adadelta optimizer: automatic learning rate\n",
    "net = nn.Sequential(nn.Linear(2, 50), nn.ReLU(),\n",
    "                   nn.Linear(50, 50), nn.ReLU(),\n",
    "                   nn.Linear(50, 1), nn.Sigmoid())\n",
    "optimizer = optim.Adadelta(net.parameters())\n",
    "\n",
    "def loss_func(y_hat, y):\n",
    "    return nn.BCELoss()(y_hat, y)\n",
    "\n",
    "train_loss = [] # where we keep track of the loss\n",
    "train_accuracy = [] # where we keep track of the accuracy of the model\n",
    "iters = 1000 # number of training iterations\n",
    "\n",
    "Y_train_t = torch.FloatTensor(Y_train).reshape(-1, 1) # re-arrange the data to an appropriate tensor\n",
    "\n",
    "for i in range(iters):\n",
    "    X_train_t = torch.FloatTensor(X_train)\n",
    "    y_hat = net(X_train_t) # forward pass\n",
    "    \n",
    "    loss = loss_func(y_hat, Y_train_t) # compute the loss\n",
    "    loss.backward() # obtain the gradients with respect to the loss\n",
    "    optimizer.step() # perform one step of gradient descent\n",
    "    optimizer.zero_grad() # reset the gradients to 0\n",
    "    \n",
    "    # compute accuracy differently\n",
    "    y_hat_class = (y_hat >= 0.5).to(int)\n",
    "    accuracy = torch.eq(y_hat_class, Y_train_t).to(float).mean()\n",
    "    \n",
    "    train_accuracy.append(accuracy)\n",
    "    train_loss.append(loss.item())\n",
    "\n",
    "plt.figure(figsize=(13, 5))\n",
    "plt.subplot(1, 2, 1)\n",
    "plt.title('Training Loss')\n",
    "plt.plot(train_loss)\n",
    "plt.xlabel('Iterations')\n",
    "plt.ylabel('Loss (Binary Cross Entropy)')\n",
    "\n",
    "plt.subplot(1, 2, 2)\n",
    "plt.title('Training Accuracy')\n",
    "plt.plot(train_accuracy)\n",
    "plt.xlabel('Iterations')\n",
    "plt.ylabel('Accuracy')"
   ]
  },
  {
   "cell_type": "code",
   "execution_count": 8,
   "metadata": {
    "colab": {
     "base_uri": "https://localhost:8080/",
     "height": 367
    },
    "id": "WfliDb-K8TLm",
    "outputId": "0271fa69-92bf-45a3-c3a4-4f1c49f3f536"
   },
   "outputs": [
    {
     "data": {
      "text/plain": [
       "Text(0, 0.5, 'Accuracy')"
      ]
     },
     "execution_count": 8,
     "metadata": {},
     "output_type": "execute_result"
    },
    {
     "data": {
      "image/png": "[encoded data removed]",
      "text/plain": [
       "<Figure size 936x360 with 2 Axes>"
      ]
     },
     "metadata": {
      "needs_background": "light"
     },
     "output_type": "display_data"
    }
   ],
   "source": [
    "# Cross entropy with 2 output value\n",
    "net = nn.Sequential(nn.Linear(2, 50), nn.ReLU(),\n",
    "                   nn.Linear(50, 50), nn.ReLU(),\n",
    "                   nn.Linear(50, 2), nn.Sigmoid())\n",
    "optimizer = optim.Adam(net.parameters(), lr=.01)\n",
    "\n",
    "loss_func = nn.CrossEntropyLoss()\n",
    "\n",
    "\n",
    "train_loss = [] # where we keep track of the loss\n",
    "train_accuracy = [] # where we keep track of the accuracy of the model\n",
    "iters = 1000 # number of training iterations\n",
    "\n",
    "Y_train_t = torch.LongTensor(Y_train).reshape(-1)\n",
    "\n",
    "for i in range(iters):\n",
    "    X_train_t = torch.FloatTensor(X_train)\n",
    "    y_hat = net(X_train_t) # forward pass\n",
    "    \n",
    "    loss = loss_func(y_hat, Y_train_t) # compute the loss\n",
    "    loss.backward() # obtain the gradients with respect to the loss\n",
    "    optimizer.step() # perform one step of gradient descent\n",
    "    optimizer.zero_grad() # reset the gradients to 0\n",
    "\n",
    "    # compute accuracy differently\n",
    "    y_hat_class = (y_hat[:, 0] <= y_hat[:, 1]).to(int)\n",
    "    accuracy = torch.eq(y_hat_class, Y_train_t).to(float).mean()\n",
    "    \n",
    "    train_accuracy.append(accuracy)\n",
    "    train_loss.append(loss.item())\n",
    "\n",
    "plt.figure(figsize=(13, 5))\n",
    "plt.subplot(1, 2, 1)\n",
    "plt.title('Training Loss')\n",
    "plt.plot(train_loss)\n",
    "plt.xlabel('Iterations')\n",
    "plt.ylabel('Loss (Binary Cross Entropy)')\n",
    "\n",
    "plt.subplot(1, 2, 2)\n",
    "plt.title('Training Accuracy')\n",
    "plt.plot(train_accuracy)\n",
    "plt.xlabel('Iterations')\n",
    "plt.ylabel('Accuracy')"
   ]
  },
  {
   "cell_type": "markdown",
   "metadata": {
    "id": "0q9x12wQro9R"
   },
   "source": [
    "<span style=\"color:green; font-style:italic\"> Your discussion comes below </span>"
   ]
  },
  {
   "cell_type": "markdown",
   "metadata": {
    "id": "cGl6gxibro9R"
   },
   "source": [
    "The deep thin network seems to have performed fairly well.\n",
    "The adadelta optimizer removed the burden of choosing for the learning rate but its impact on the solution isn't much visible.\n",
    "The cross entropy loss doesn't seem to have any effect in this particular problem"
   ]
  },
  {
   "cell_type": "markdown",
   "metadata": {
    "id": "Jin8iDYRro9S"
   },
   "source": [
    "### Feedback\n",
    "\n",
    "We will now ask you few questions to improve the content of this homework for next years."
   ]
  },
  {
   "cell_type": "markdown",
   "metadata": {
    "id": "ow7asJwMro9S"
   },
   "source": [
    "<span style=\"color:blue\">How long did you spend on this homework?</span>"
   ]
  },
  {
   "cell_type": "markdown",
   "metadata": {
    "id": "Bhfzpkm3ro9S"
   },
   "source": [
    "About 2h"
   ]
  },
  {
   "cell_type": "markdown",
   "metadata": {
    "id": "07C2Q9DYro9S"
   },
   "source": [
    "<span style=\"color:blue\">Did you learn something?</span>"
   ]
  },
  {
   "cell_type": "markdown",
   "metadata": {
    "id": "Wu3c4YfZro9S"
   },
   "source": [
    "I had a bit of experience with pytorch but I felt challenged by the \"bug-fixing\" exercise, which is very nice"
   ]
  },
  {
   "cell_type": "markdown",
   "metadata": {
    "id": "xtHypy_wro9S"
   },
   "source": [
    "<span style=\"color:blue\">Do you now feel comfortable with writing simple mathematical operations (like you would do in matlab or with numpy) in PyTorch?</span>"
   ]
  },
  {
   "cell_type": "markdown",
   "metadata": {
    "id": "8fvi9xJLro9W"
   },
   "source": [
    "Yes, I believe pytorch has a very similar interface to numpy"
   ]
  },
  {
   "cell_type": "markdown",
   "metadata": {
    "id": "v8YhLY0pro9W"
   },
   "source": [
    "<span style=\"color:blue\">Do you now feel comfortable using PyTorch for performing gradient descent?</span>"
   ]
  },
  {
   "cell_type": "markdown",
   "metadata": {
    "id": "Vy1KPicHro9X"
   },
   "source": [
    "PyTorch is much simpler than doing it by hand so yes"
   ]
  },
  {
   "cell_type": "markdown",
   "metadata": {
    "id": "WcheVqopro9X"
   },
   "source": [
    "<span style=\"color:blue\">Do you now feel comfortable with building and learning neural networks with PyTorch?</span>"
   ]
  },
  {
   "cell_type": "markdown",
   "metadata": {
    "id": "A1cRjl_Iro9X"
   },
   "source": [
    "The framework allows to describe the models very easily"
   ]
  }
 ],
 "metadata": {
  "colab": {
   "collapsed_sections": [
    "UdPwMRYzro8y",
    "rNC8KAphro8y",
    "CPJ19zT7ro8-",
    "DShqE82Kro8_"
   ],
   "name": "Homework_1.ipynb",
   "provenance": []
  },
  "kernelspec": {
   "display_name": "Python 3",
   "language": "python",
   "name": "python3"
  },
  "language_info": {
   "codemirror_mode": {
    "name": "ipython",
    "version": 3
   },
   "file_extension": ".py",
   "mimetype": "text/x-python",
   "name": "python",
   "nbconvert_exporter": "python",
   "pygments_lexer": "ipython3",
   "version": "3.8.3"
  }
 },
 "nbformat": 4,
 "nbformat_minor": 1
}
